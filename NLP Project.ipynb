{
 "cells": [
  {
   "cell_type": "code",
   "execution_count": 3,
   "metadata": {},
   "outputs": [],
   "source": [
    "#use of HTML files to get data\n",
    "\n",
    "from bs4 import BeautifulSoup\n",
    "import pandas as pd\n",
    "import os\n",
    "\n",
    "html_tables = {}\n",
    "\n",
    "for table_name in os.listdir('datasets'):\n",
    "    table_path = f'datasets/{table_name}'\n",
    "    table_file = open(table_path, 'r')\n",
    "    \n",
    "    # scraping the HTML table using BeautifulSoup into html variable \n",
    "    html = BeautifulSoup(table_file)\n",
    "    html_table = html.find(id=\"news-table\")\n",
    "    html_tables[table_name] = html_table"
   ]
  },
  {
   "cell_type": "code",
   "execution_count": 2,
   "metadata": {},
   "outputs": [
    {
     "name": "stdout",
     "output_type": "stream",
     "text": [
      "0:\n",
      "Dow Jones Surges 850 Points On 'Amazing' Jobs Report; Apple Hits All-Time High, While Boeing Soars 15%\n",
      "Jun-05-20 11:03AM  \n",
      "1:\n",
      "The Zacks Analyst Blog Highlights: JPMorgan Chase, Exxon Mobil, Oracle, Tesla and Royal Dutch Shell\n",
      "10:07AM  \n",
      "2:\n",
      "The Zacks Analyst Blog Highlights: Lowe's Companies, Applied Materials, NVIDIA, Tesla and NextEra Energy\n",
      "10:02AM  \n",
      "3:\n",
      "Tesla Stock Could Rally to $1,500\n",
      "09:25AM  \n"
     ]
    }
   ],
   "source": [
    "# extracting data from the files\n",
    "tsla = html_tables['tsla_5june.html']\n",
    "tsla_tr = tsla.findAll('tr')\n",
    "\n",
    "# For each row\n",
    "for i, table_row in enumerate(tsla_tr):\n",
    "    link_text = table_row.a.get_text() # headlines\n",
    "    data_text = table_row.td.get_text() # date & time of that headline\n",
    "    # Print the count\n",
    "    print(f'{i}:') \n",
    "    print(link_text)\n",
    "    print(data_text)\n",
    "    if i == 3:\n",
    "        break"
   ]
  },
  {
   "cell_type": "code",
   "execution_count": 3,
   "metadata": {},
   "outputs": [],
   "source": [
    "# extracting the news headlines\n",
    "parsed_news = []\n",
    "\n",
    "for file_name, news_table in html_tables.items():\n",
    "    for x in news_table.findAll('tr'):\n",
    "        text = x.get_text() #ticker\n",
    "        headline = x.a.get_text() #headline from anchor tag\n",
    "        date_scrape = x.td.text.split() # to get date and time string\n",
    "\n",
    "        if len(date_scrape) == 1:\n",
    "            time = date_scrape[0]\n",
    "        else:\n",
    "            date = date_scrape[0]\n",
    "            time = date_scrape[1]\n",
    " \n",
    "        ticker = file_name.split('_')[0]\n",
    "        parsed_news.append([ticker, date, time, headline])"
   ]
  },
  {
   "cell_type": "code",
   "execution_count": 4,
   "metadata": {},
   "outputs": [
    {
     "name": "stderr",
     "output_type": "stream",
     "text": [
      "C:\\Users\\Parth Panday\\Anaconda3\\lib\\site-packages\\nltk\\twitter\\__init__.py:20: UserWarning: The twython library has not been installed. Some functionality from the twitter package will not be available.\n",
      "  warnings.warn(\"The twython library has not been installed. \"\n"
     ]
    }
   ],
   "source": [
    "# using NLTK VADER for sentiment analysis\n",
    "from nltk.sentiment.vader import SentimentIntensityAnalyzer\n",
    "\n",
    "# making a dictionary of very frequently used words in financial market and assigning then their values\n",
    "new_words = {\n",
    "    'crushes': 10,\n",
    "    'beats': 5,\n",
    "    'misses': -5,\n",
    "    'trouble': -10,\n",
    "    'falls': -100,\n",
    "}\n",
    "\n",
    "vader = SentimentIntensityAnalyzer()\n",
    "\n",
    "vader.lexicon.update(new_words)"
   ]
  },
  {
   "cell_type": "code",
   "execution_count": 5,
   "metadata": {},
   "outputs": [],
   "source": [
    "#sentiment analysis using nltk\n",
    "columns = ['ticker', 'date', 'time', 'headline']\n",
    "scored_news = pd.DataFrame(parsed_news, columns=columns)\n",
    "scores = [vader.polarity_scores(headline) for headline in scored_news.headline.values]\n",
    "scores_df = pd.DataFrame(scores)\n",
    "scored_news = pd.concat([scored_news, scores_df], axis=1)\n",
    "scored_news['date'] = pd.to_datetime(scored_news.date).dt.date"
   ]
  },
  {
   "cell_type": "code",
   "execution_count": 6,
   "metadata": {},
   "outputs": [
    {
     "data": {
      "image/png": "[encoded data removed]",
      "text/plain": [
       "<Figure size 432x288 with 1 Axes>"
      ]
     },
     "metadata": {
      "needs_background": "light"
     },
     "output_type": "display_data"
    }
   ],
   "source": [
    "#plot the sentiment\n",
    "import matplotlib.pyplot as plt\n",
    "plt.style.use(\"fivethirtyeight\")\n",
    "%matplotlib inline\n",
    "\n",
    "mean_c = scored_news.groupby(['date', 'ticker']).mean()\n",
    "mean_c = mean_c.unstack(level=1)\n",
    "mean_c = mean_c.xs('compound', axis=1)\n",
    "mean_c.plot.bar();"
   ]
  },
  {
   "cell_type": "code",
   "execution_count": 7,
   "metadata": {},
   "outputs": [
    {
     "name": "stdout",
     "output_type": "stream",
     "text": [
      "300\n",
      "294\n"
     ]
    }
   ],
   "source": [
    "# removving the duplicate news\n",
    "num_news_before = scored_news.headline.count()\n",
    "scored_news_clean = scored_news.drop_duplicates(['ticker', 'headline'])\n",
    "\n",
    "num_news_after = scored_news_clean.headline.count()\n",
    "\n",
    "print(num_news_before)\n",
    "print(num_news_after)"
   ]
  },
  {
   "cell_type": "code",
   "execution_count": 8,
   "metadata": {},
   "outputs": [
    {
     "name": "stdout",
     "output_type": "stream",
     "text": [
      "               time                                           headline  \\\n",
      "date                                                                     \n",
      "2020-06-01  10:08PM  Geely's Polestar plans China showroom expansio...   \n",
      "2020-06-01  10:00PM  Geely's Polestar plans China showroom expansio...   \n",
      "2020-06-01  05:51PM  US Indexes Start the Month of June Slightly Hi...   \n",
      "2020-06-01  05:42PM  The Dow Rose 92 Points Because Protests and U....   \n",
      "2020-06-01  05:15PM     How Investors are Behaving in 2020 Versus 2008   \n",
      "2020-06-01  05:09PM  SpaceX, NASA send astronauts into space in his...   \n",
      "2020-06-01  05:07PM                   Why Tesla Stock Jumped on Monday   \n",
      "2020-06-01  04:56PM  How SpaceX is 'revolutionizing the space indus...   \n",
      "2020-06-01  04:38PM  Tesla, IBD Stock Of The Day, Breaks Out Into B...   \n",
      "2020-06-01  04:35PM  SpaceX Falcon 9 Launch A 'Major Shot In The Ar...   \n",
      "2020-06-01  03:52PM  Breakout Watch: Tesla Stock Gaps Up Into Buy Zone   \n",
      "2020-06-01  03:47PM  Elon Musk demands justice for George Floyd: De...   \n",
      "2020-06-01  03:02PM  Autopilot? Watch a Tesla slam into an overturn...   \n",
      "2020-06-01  02:52PM  What the successful SpaceX launch means for Tesla   \n",
      "2020-06-01  01:44PM  Heres why the unloved but welcome U.S. stock m...   \n",
      "2020-06-01  01:03PM             PreMarket Prep Stock Of The Day: Tesla   \n",
      "2020-06-01  12:52PM  Stock Market News: SpaceX Success Launches Tes...   \n",
      "2020-06-01  12:45PM  Will protests and looting permanently damage t...   \n",
      "2020-06-01  12:29PM                 Here's Why Amyris Is Soaring Today   \n",
      "2020-06-01  12:07PM  SpaceX Makes Tesla Stock Look Even Better. Jus...   \n",
      "2020-06-01  11:42AM  Dow Jones Erases 150-Point Loss Amid Rising U....   \n",
      "2020-06-01  11:10AM  How SpaceX could revolutionize the space industry   \n",
      "2020-06-01  10:59AM           Tesla stock in focus after SpaceX launch   \n",
      "2020-06-01  10:15AM                                   Tesla Breaks Out   \n",
      "2020-06-01  09:39AM  Auto Stock Roundup: NSANY Incurs Biggest Loss ...   \n",
      "2020-06-01  08:16AM  Dow Jones Futures: Tesla Leads 5 Stocks Lookin...   \n",
      "2020-06-01  07:15AM  Nio CEO Says Tesla An Ally In Increasing Sales...   \n",
      "2020-06-01  05:54AM    Elon Musk's Baby Has A Nickname, Grimes Reveals   \n",
      "\n",
      "            compound    neg    neu    pos  \n",
      "date                                       \n",
      "2020-06-01    0.0000  0.000  1.000  0.000  \n",
      "2020-06-01    0.0000  0.000  1.000  0.000  \n",
      "2020-06-01    0.0000  0.000  1.000  0.000  \n",
      "2020-06-01   -0.5417  0.370  0.521  0.109  \n",
      "2020-06-01    0.0000  0.000  1.000  0.000  \n",
      "2020-06-01    0.0000  0.000  1.000  0.000  \n",
      "2020-06-01    0.0000  0.000  1.000  0.000  \n",
      "2020-06-01    0.0000  0.000  1.000  0.000  \n",
      "2020-06-01    0.0000  0.000  1.000  0.000  \n",
      "2020-06-01    0.0000  0.000  1.000  0.000  \n",
      "2020-06-01    0.0000  0.000  1.000  0.000  \n",
      "2020-06-01    0.6486  0.079  0.655  0.266  \n",
      "2020-06-01   -0.3818  0.206  0.794  0.000  \n",
      "2020-06-01    0.5859  0.000  0.648  0.352  \n",
      "2020-06-01    0.2144  0.187  0.632  0.181  \n",
      "2020-06-01    0.0000  0.000  1.000  0.000  \n",
      "2020-06-01    0.5719  0.000  0.709  0.291  \n",
      "2020-06-01   -0.6249  0.459  0.541  0.000  \n",
      "2020-06-01    0.0000  0.000  1.000  0.000  \n",
      "2020-06-01    0.4404  0.000  0.775  0.225  \n",
      "2020-06-01   -0.6124  0.238  0.762  0.000  \n",
      "2020-06-01    0.0000  0.000  1.000  0.000  \n",
      "2020-06-01    0.0000  0.000  1.000  0.000  \n",
      "2020-06-01    0.0000  0.000  1.000  0.000  \n",
      "2020-06-01    0.6908  0.108  0.610  0.282  \n",
      "2020-06-01    0.0000  0.000  1.000  0.000  \n",
      "2020-06-01    0.3818  0.000  0.852  0.148  \n",
      "2020-06-01   -0.2500  0.250  0.750  0.000  \n"
     ]
    },
    {
     "data": {
      "text/html": [
       "<div>\n",
       "<style scoped>\n",
       "    .dataframe tbody tr th:only-of-type {\n",
       "        vertical-align: middle;\n",
       "    }\n",
       "\n",
       "    .dataframe tbody tr th {\n",
       "        vertical-align: top;\n",
       "    }\n",
       "\n",
       "    .dataframe thead th {\n",
       "        text-align: right;\n",
       "    }\n",
       "</style>\n",
       "<table border=\"1\" class=\"dataframe\">\n",
       "  <thead>\n",
       "    <tr style=\"text-align: right;\">\n",
       "      <th></th>\n",
       "      <th>headline</th>\n",
       "      <th>compound</th>\n",
       "      <th>neg</th>\n",
       "      <th>neu</th>\n",
       "      <th>pos</th>\n",
       "    </tr>\n",
       "    <tr>\n",
       "      <th>time</th>\n",
       "      <th></th>\n",
       "      <th></th>\n",
       "      <th></th>\n",
       "      <th></th>\n",
       "      <th></th>\n",
       "    </tr>\n",
       "  </thead>\n",
       "  <tbody>\n",
       "    <tr>\n",
       "      <th>05:54:00</th>\n",
       "      <td>Elon Musk's Baby Has A Nickname, Grimes Reveals</td>\n",
       "      <td>-0.2500</td>\n",
       "      <td>0.250</td>\n",
       "      <td>0.750</td>\n",
       "      <td>0.000</td>\n",
       "    </tr>\n",
       "    <tr>\n",
       "      <th>07:15:00</th>\n",
       "      <td>Nio CEO Says Tesla An Ally In Increasing Sales...</td>\n",
       "      <td>0.3818</td>\n",
       "      <td>0.000</td>\n",
       "      <td>0.852</td>\n",
       "      <td>0.148</td>\n",
       "    </tr>\n",
       "    <tr>\n",
       "      <th>08:16:00</th>\n",
       "      <td>Dow Jones Futures: Tesla Leads 5 Stocks Lookin...</td>\n",
       "      <td>0.0000</td>\n",
       "      <td>0.000</td>\n",
       "      <td>1.000</td>\n",
       "      <td>0.000</td>\n",
       "    </tr>\n",
       "    <tr>\n",
       "      <th>09:39:00</th>\n",
       "      <td>Auto Stock Roundup: NSANY Incurs Biggest Loss ...</td>\n",
       "      <td>0.6908</td>\n",
       "      <td>0.108</td>\n",
       "      <td>0.610</td>\n",
       "      <td>0.282</td>\n",
       "    </tr>\n",
       "    <tr>\n",
       "      <th>10:15:00</th>\n",
       "      <td>Tesla Breaks Out</td>\n",
       "      <td>0.0000</td>\n",
       "      <td>0.000</td>\n",
       "      <td>1.000</td>\n",
       "      <td>0.000</td>\n",
       "    </tr>\n",
       "  </tbody>\n",
       "</table>\n",
       "</div>"
      ],
      "text/plain": [
       "                                                   headline  compound    neg  \\\n",
       "time                                                                           \n",
       "05:54:00    Elon Musk's Baby Has A Nickname, Grimes Reveals   -0.2500  0.250   \n",
       "07:15:00  Nio CEO Says Tesla An Ally In Increasing Sales...    0.3818  0.000   \n",
       "08:16:00  Dow Jones Futures: Tesla Leads 5 Stocks Lookin...    0.0000  0.000   \n",
       "09:39:00  Auto Stock Roundup: NSANY Incurs Biggest Loss ...    0.6908  0.108   \n",
       "10:15:00                                   Tesla Breaks Out    0.0000  0.000   \n",
       "\n",
       "            neu    pos  \n",
       "time                    \n",
       "05:54:00  0.750  0.000  \n",
       "07:15:00  0.852  0.148  \n",
       "08:16:00  1.000  0.000  \n",
       "09:39:00  0.610  0.282  \n",
       "10:15:00  1.000  0.000  "
      ]
     },
     "execution_count": 8,
     "metadata": {},
     "output_type": "execute_result"
    }
   ],
   "source": [
    "#sentiment on one single day for TESLA\n",
    "single_day = scored_news_clean.set_index(['ticker', 'date'])\n",
    "\n",
    "single_day = single_day.loc['tsla']\n",
    "single_day = single_day.loc['2020-06-01']\n",
    "print(single_day)\n",
    "\n",
    "single_day['time'] = pd.to_datetime(single_day['time'])\n",
    "single_day['time'] = single_day.time.dt.time\n",
    "\n",
    "single_day.set_index('time', inplace=True)\n",
    "single_day=single_day.sort_index(ascending=True)\n",
    "single_day.head()"
   ]
  },
  {
   "cell_type": "code",
   "execution_count": 9,
   "metadata": {},
   "outputs": [
    {
     "data": {
      "image/png": "[encoded data removed]",
      "text/plain": [
       "<Figure size 1800x1296 with 1 Axes>"
      ]
     },
     "metadata": {
      "needs_background": "light"
     },
     "output_type": "display_data"
    }
   ],
   "source": [
    "#visualize a single day\n",
    "TITLE = \"Positive, negative and neutral sentiment for TSLA on 2020-06-01\"\n",
    "COLORS = [\"red\", \"orange\", \"green\"]\n",
    "\n",
    "plot_day = single_day.drop(['headline', 'compound'], axis=1)\n",
    "\n",
    "plot_day.columns = ['negative', 'positive', 'neutral']\n",
    "\n",
    "plot_day.plot.bar(stacked = True, \n",
    "                  figsize=(25, 18), \n",
    "                  title = TITLE, \n",
    "                  color = COLORS)\n",
    "plt.legend(bbox_to_anchor=(1.2, 0.5))\n",
    "plt.ylabel(\"scores\");"
   ]
  },
  {
   "cell_type": "code",
   "execution_count": 10,
   "metadata": {},
   "outputs": [
    {
     "name": "stdout",
     "output_type": "stream",
     "text": [
      "               time                                           headline  \\\n",
      "date                                                                     \n",
      "2020-06-04  09:00PM  Broadcom Suggests New iPhone Launch Will Be De...   \n",
      "2020-06-04  07:10PM  Broadcom Warns of Weak Demand for Smartphone C...   \n",
      "2020-06-04  06:48PM        Apple Posts Statement on George Floyd Death   \n",
      "2020-06-04  05:58PM  Apple Offering Covid-19 Testing to Staff Retur...   \n",
      "2020-06-04  04:15PM  Most Stocks Were Lifted in the Recent Rally. B...   \n",
      "2020-06-04  04:11PM  Defending Apple TV+: Too Soon To Write Off Str...   \n",
      "2020-06-04  03:04PM              Top 10 S&P 500 Stocks by Index Weight   \n",
      "2020-06-04  02:08PM  GLOBAL MARKETS-ECB sends euro higher, stocks p...   \n",
      "2020-06-04  01:46PM  Don't Count Out Apple TV+, Despite Lackluster ...   \n",
      "2020-06-04  01:31PM  US STOCKS-Wall Street retreats after rallying ...   \n",
      "2020-06-04  12:22PM  Apple TV+ Got a Slow Start. But Dont Count It ...   \n",
      "2020-06-04  12:00PM  Watch out: This is the age where you should de...   \n",
      "2020-06-04  11:59AM  US STOCKS-S&P 500, Nasdaq slide after rallying...   \n",
      "2020-06-04  11:26AM  Some tech workers are slowly trickling back to...   \n",
      "2020-06-04  10:46AM  US STOCKS-Tech stocks boost Nasdaq as recovery...   \n",
      "2020-06-04  10:23AM  From politicians and diplomats to Pope Francis...   \n",
      "2020-06-04  10:18AM                  Is Apple Stock Worth $2 Trillion?   \n",
      "2020-06-04  10:10AM  IDC Predicts Low Smartphone Shipments on Coron...   \n",
      "2020-06-04  09:38AM  Apple CEO Tim Cook Speaks Out on Racial Injust...   \n",
      "2020-06-04  09:00AM  Ex-Apple engineers aim to help U.S. hardware m...   \n",
      "2020-06-04  08:39AM  Apple CEO Tim Cook Publishes Open Letter on Ra...   \n",
      "2020-06-04  07:18AM  Spain's lower house opens process to create di...   \n",
      "2020-06-04  07:11AM  Europe pins hopes on smarter coronavirus conta...   \n",
      "2020-06-04  06:06AM  Buffett's Portfolio Hasn't Done This in 4 Year...   \n",
      "2020-06-04  12:38AM  Taiwan Draws Up Plan to Woo $1.3 Billion of An...   \n",
      "\n",
      "            compound    neg    neu    pos  \n",
      "date                                       \n",
      "2020-06-04   -0.2263  0.213  0.787  0.000  \n",
      "2020-06-04   -0.5859  0.537  0.463  0.000  \n",
      "2020-06-04   -0.5994  0.394  0.606  0.000  \n",
      "2020-06-04    0.0000  0.000  1.000  0.000  \n",
      "2020-06-04    0.0000  0.000  1.000  0.000  \n",
      "2020-06-04    0.0000  0.000  1.000  0.000  \n",
      "2020-06-04    0.2023  0.000  0.795  0.205  \n",
      "2020-06-04    0.0000  0.000  1.000  0.000  \n",
      "2020-06-04    0.0000  0.000  1.000  0.000  \n",
      "2020-06-04    0.5423  0.000  0.696  0.304  \n",
      "2020-06-04    0.0000  0.000  1.000  0.000  \n",
      "2020-06-04    0.1280  0.138  0.692  0.170  \n",
      "2020-06-04    0.5423  0.000  0.720  0.280  \n",
      "2020-06-04   -0.0516  0.098  0.902  0.000  \n",
      "2020-06-04    0.7351  0.000  0.530  0.470  \n",
      "2020-06-04   -0.8020  0.298  0.702  0.000  \n",
      "2020-06-04    0.2263  0.000  0.725  0.275  \n",
      "2020-06-04   -0.2732  0.231  0.769  0.000  \n",
      "2020-06-04   -0.5719  0.236  0.764  0.000  \n",
      "2020-06-04    0.5423  0.000  0.667  0.333  \n",
      "2020-06-04   -0.6249  0.313  0.687  0.000  \n",
      "2020-06-04   -0.0258  0.154  0.699  0.147  \n",
      "2020-06-04    0.7003  0.000  0.547  0.453  \n",
      "2020-06-04    0.0000  0.000  1.000  0.000  \n",
      "2020-06-04    0.4767  0.000  0.780  0.220  \n"
     ]
    },
    {
     "data": {
      "text/html": [
       "<div>\n",
       "<style scoped>\n",
       "    .dataframe tbody tr th:only-of-type {\n",
       "        vertical-align: middle;\n",
       "    }\n",
       "\n",
       "    .dataframe tbody tr th {\n",
       "        vertical-align: top;\n",
       "    }\n",
       "\n",
       "    .dataframe thead th {\n",
       "        text-align: right;\n",
       "    }\n",
       "</style>\n",
       "<table border=\"1\" class=\"dataframe\">\n",
       "  <thead>\n",
       "    <tr style=\"text-align: right;\">\n",
       "      <th></th>\n",
       "      <th>headline</th>\n",
       "      <th>compound</th>\n",
       "      <th>neg</th>\n",
       "      <th>neu</th>\n",
       "      <th>pos</th>\n",
       "    </tr>\n",
       "    <tr>\n",
       "      <th>time</th>\n",
       "      <th></th>\n",
       "      <th></th>\n",
       "      <th></th>\n",
       "      <th></th>\n",
       "      <th></th>\n",
       "    </tr>\n",
       "  </thead>\n",
       "  <tbody>\n",
       "    <tr>\n",
       "      <th>00:38:00</th>\n",
       "      <td>Taiwan Draws Up Plan to Woo $1.3 Billion of An...</td>\n",
       "      <td>0.4767</td>\n",
       "      <td>0.000</td>\n",
       "      <td>0.780</td>\n",
       "      <td>0.220</td>\n",
       "    </tr>\n",
       "    <tr>\n",
       "      <th>06:06:00</th>\n",
       "      <td>Buffett's Portfolio Hasn't Done This in 4 Year...</td>\n",
       "      <td>0.0000</td>\n",
       "      <td>0.000</td>\n",
       "      <td>1.000</td>\n",
       "      <td>0.000</td>\n",
       "    </tr>\n",
       "    <tr>\n",
       "      <th>07:11:00</th>\n",
       "      <td>Europe pins hopes on smarter coronavirus conta...</td>\n",
       "      <td>0.7003</td>\n",
       "      <td>0.000</td>\n",
       "      <td>0.547</td>\n",
       "      <td>0.453</td>\n",
       "    </tr>\n",
       "    <tr>\n",
       "      <th>07:18:00</th>\n",
       "      <td>Spain's lower house opens process to create di...</td>\n",
       "      <td>-0.0258</td>\n",
       "      <td>0.154</td>\n",
       "      <td>0.699</td>\n",
       "      <td>0.147</td>\n",
       "    </tr>\n",
       "    <tr>\n",
       "      <th>08:39:00</th>\n",
       "      <td>Apple CEO Tim Cook Publishes Open Letter on Ra...</td>\n",
       "      <td>-0.6249</td>\n",
       "      <td>0.313</td>\n",
       "      <td>0.687</td>\n",
       "      <td>0.000</td>\n",
       "    </tr>\n",
       "  </tbody>\n",
       "</table>\n",
       "</div>"
      ],
      "text/plain": [
       "                                                   headline  compound    neg  \\\n",
       "time                                                                           \n",
       "00:38:00  Taiwan Draws Up Plan to Woo $1.3 Billion of An...    0.4767  0.000   \n",
       "06:06:00  Buffett's Portfolio Hasn't Done This in 4 Year...    0.0000  0.000   \n",
       "07:11:00  Europe pins hopes on smarter coronavirus conta...    0.7003  0.000   \n",
       "07:18:00  Spain's lower house opens process to create di...   -0.0258  0.154   \n",
       "08:39:00  Apple CEO Tim Cook Publishes Open Letter on Ra...   -0.6249  0.313   \n",
       "\n",
       "            neu    pos  \n",
       "time                    \n",
       "00:38:00  0.780  0.220  \n",
       "06:06:00  1.000  0.000  \n",
       "07:11:00  0.547  0.453  \n",
       "07:18:00  0.699  0.147  \n",
       "08:39:00  0.687  0.000  "
      ]
     },
     "execution_count": 10,
     "metadata": {},
     "output_type": "execute_result"
    }
   ],
   "source": [
    "#sentiment on one single day for APPLE\n",
    "single_day = scored_news_clean.set_index(['ticker', 'date'])\n",
    "\n",
    "single_day = single_day.loc['aapl']\n",
    "single_day = single_day.loc['2020-06-04']\n",
    "print(single_day)\n",
    "\n",
    "single_day['time'] = pd.to_datetime(single_day['time'])\n",
    "single_day['time'] = single_day.time.dt.time\n",
    "\n",
    "single_day.set_index('time', inplace=True)\n",
    "single_day=single_day.sort_index(ascending=True)\n",
    "single_day.head()"
   ]
  },
  {
   "cell_type": "code",
   "execution_count": 11,
   "metadata": {},
   "outputs": [
    {
     "data": {
      "image/png": "[encoded data removed]",
      "text/plain": [
       "<Figure size 1800x1296 with 1 Axes>"
      ]
     },
     "metadata": {
      "needs_background": "light"
     },
     "output_type": "display_data"
    }
   ],
   "source": [
    "#visualize a single day\n",
    "TITLE = \"Positive, negative and neutral sentiment for AAPL on 2020-06-04\"\n",
    "COLORS = [\"red\", \"orange\", \"green\"]\n",
    "\n",
    "plot_day = single_day.drop(['headline', 'compound'], axis=1)\n",
    "\n",
    "plot_day.columns = ['negative', 'positive', 'neutral']\n",
    "\n",
    "plot_day.plot.bar(stacked = True, \n",
    "                  figsize=(25, 18), \n",
    "                  title = TITLE, \n",
    "                  color = COLORS)\n",
    "plt.legend(bbox_to_anchor=(1.2, 0.5))\n",
    "plt.ylabel(\"scores\");"
   ]
  },
  {
   "cell_type": "code",
   "execution_count": null,
   "metadata": {},
   "outputs": [],
   "source": []
  }
 ],
 "metadata": {
  "kernelspec": {
   "display_name": "Python 3",
   "language": "python",
   "name": "python3"
  },
  "language_info": {
   "codemirror_mode": {
    "name": "ipython",
    "version": 3
   },
   "file_extension": ".py",
   "mimetype": "text/x-python",
   "name": "python",
   "nbconvert_exporter": "python",
   "pygments_lexer": "ipython3",
   "version": "3.7.0"
  }
 },
 "nbformat": 4,
 "nbformat_minor": 2
}
